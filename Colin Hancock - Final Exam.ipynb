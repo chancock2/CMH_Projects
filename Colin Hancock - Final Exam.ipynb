{
 "cells": [
  {
   "cell_type": "code",
   "execution_count": 187,
   "metadata": {
    "collapsed": true
   },
   "outputs": [],
   "source": [
    "#importing important modules and functions\n",
    "import numpy as np\n",
    "import scipy.optimize as optimize\n",
    "import matplotlib.pyplot as plt\n",
    "\n",
    "import numpy.random as rand"
   ]
  },
  {
   "cell_type": "code",
   "execution_count": 188,
   "metadata": {
    "collapsed": true
   },
   "outputs": [],
   "source": [
    "##Part C\n",
    "##Take three premade datasets and find the Maximum Likelihood (ML) estimators for the relative amplitude (a) of each, with errors."
   ]
  },
  {
   "cell_type": "code",
   "execution_count": 189,
   "metadata": {
    "collapsed": true
   },
   "outputs": [],
   "source": [
    "infile = open('fnl_sample_1.dat')    # open the file for reading\n",
    "lines = infile.readlines()         # save the file to an array of lines\n",
    "x1 = []                            # initialize an array x1\n",
    "for line in lines:\n",
    "    x1.append(float(line.split()[0]))\n",
    "    \n",
    "x1=np.asarray(x1)"
   ]
  },
  {
   "cell_type": "code",
   "execution_count": 190,
   "metadata": {
    "collapsed": true
   },
   "outputs": [],
   "source": [
    "infile = open('fnl_sample_2.dat')    \n",
    "lines = infile.readlines()         \n",
    "x2 = []                            \n",
    "for line in lines:\n",
    "    x2.append(float(line.split()[0]))\n",
    "    \n",
    "x2=np.asarray(x2)"
   ]
  },
  {
   "cell_type": "code",
   "execution_count": 191,
   "metadata": {
    "collapsed": true
   },
   "outputs": [],
   "source": [
    "infile = open('fnl_sample_3.dat')    \n",
    "lines = infile.readlines()         \n",
    "x3 = []                            \n",
    "for line in lines:\n",
    "    x3.append(float(line.split()[0]))\n",
    "    \n",
    "x3=np.asarray(x3)"
   ]
  },
  {
   "cell_type": "code",
   "execution_count": 192,
   "metadata": {
    "collapsed": true
   },
   "outputs": [],
   "source": [
    "#Here we define the nLLH function for the signal+BG PDF for each dataset\n",
    "\n",
    "def nLLH1(a):\n",
    "    return -np.sum( np.log( (3./8.)*a*((1. + x1)**2)  + ((1./6.)*(1.-a)*(3.-x1)) ))"
   ]
  },
  {
   "cell_type": "code",
   "execution_count": 193,
   "metadata": {
    "collapsed": true
   },
   "outputs": [],
   "source": [
    "def nLLH2(a):\n",
    "    return -np.sum( np.log( (3./8.)*a*((1. + x2)**2)  + ((1./6.)*(1.-a)*(3.-x2)) ))"
   ]
  },
  {
   "cell_type": "code",
   "execution_count": 194,
   "metadata": {
    "collapsed": true
   },
   "outputs": [],
   "source": [
    "def nLLH3(a):\n",
    "    return -np.sum( np.log( (3./8.)*a*((1. + x3)**2)  + ((1./6.)*(1.-a)*(3.-x3)) ))"
   ]
  },
  {
   "cell_type": "code",
   "execution_count": 195,
   "metadata": {},
   "outputs": [
    {
     "name": "stdout",
     "output_type": "stream",
     "text": [
      "0.159511540148\n"
     ]
    }
   ],
   "source": [
    "#This finds the MLE for the first experiment by minimizing the nLLH\n",
    "\n",
    "bf1 = optimize.minimize( lambda a: nLLH1(a),[0.1],bounds=[(0.0,1.0)])\n",
    "\n",
    "print bf1.x[0]"
   ]
  },
  {
   "cell_type": "code",
   "execution_count": 196,
   "metadata": {},
   "outputs": [
    {
     "name": "stdout",
     "output_type": "stream",
     "text": [
      "[0.028000000000000001, 0.30199999999999999]\n"
     ]
    }
   ],
   "source": [
    "#Use this to find the error bounds\n",
    "\n",
    "a1 = np.arange(0.0,0.4,0.001)\n",
    "\n",
    "yx1 = []\n",
    "\n",
    "for i in range (0,len(a1)):\n",
    "    yx1.append(nLLH1(a1[i]))\n",
    "    \n",
    "yx = np.asarray(yx1)\n",
    "    \n",
    "\n",
    "error1 = []    \n",
    "    \n",
    "for i in range(0,len(a1)):\n",
    "    if (np.abs(yx[i] - min(yx+0.5)) < 0.005):\n",
    "        error1.append(a1[i])\n",
    "    \n",
    "print error1"
   ]
  },
  {
   "cell_type": "code",
   "execution_count": 214,
   "metadata": {},
   "outputs": [
    {
     "data": {
      "image/png": "[encoded data removed]",
      "text/plain": [
       "<matplotlib.figure.Figure at 0xb643780>"
      ]
     },
     "metadata": {},
     "output_type": "display_data"
    }
   ],
   "source": [
    "#Showing errors graphically\n",
    "plt.clf()\n",
    "plt.axhline(nLLH1(bf1.x[0])+0.5,color='red')\n",
    "plt.axvline(error1[0],color='red')\n",
    "plt.axvline(error1[1],color='red')\n",
    "plt.scatter(a1,yx1)\n",
    "plt.xlabel(\"a\")\n",
    "plt.ylabel(\"nLLH\")\n",
    "plt.title(\"Part C - Experiment 1\")\n",
    "plt.savefig(\"Final_nLLH-C1\")\n",
    "plt.show() "
   ]
  },
  {
   "cell_type": "code",
   "execution_count": 198,
   "metadata": {},
   "outputs": [
    {
     "name": "stdout",
     "output_type": "stream",
     "text": [
      "The estimated value of a1 is 0.16\n",
      "\n",
      "The left-hand error is 0.132\n",
      "\n",
      "The right-hand side error is 0.142\n"
     ]
    }
   ],
   "source": [
    "#Simply printing the MLE and the size of the errors\n",
    "\n",
    "print \"The estimated value of a1 is\", \"%.3g\" % bf1.x[0]\n",
    "print\n",
    "print \"The left-hand error is\", \"%.3g\" % (bf1.x[0] - error1[0])\n",
    "print\n",
    "print \"The right-hand side error is\", \"%.3g\" % (error1[1] - bf1.x[0])"
   ]
  },
  {
   "cell_type": "code",
   "execution_count": 199,
   "metadata": {},
   "outputs": [
    {
     "name": "stdout",
     "output_type": "stream",
     "text": [
      "0.403402353391\n"
     ]
    }
   ],
   "source": [
    "#Repeat above for Experiment #2\n",
    "bf2 = optimize.minimize( lambda a: nLLH2(a),[0.4])\n",
    "\n",
    "print bf2.x[0]"
   ]
  },
  {
   "cell_type": "code",
   "execution_count": 200,
   "metadata": {},
   "outputs": [
    {
     "name": "stdout",
     "output_type": "stream",
     "text": [
      "[0.24900000000000014, 0.55300000000000038]\n"
     ]
    }
   ],
   "source": [
    "#Use this to find the error bounds\n",
    "\n",
    "a2 = np.arange(0.1,0.7,0.001)\n",
    "\n",
    "yx2 = []\n",
    "\n",
    "for i in range (0,len(a2)):\n",
    "    yx2.append(nLLH2(a2[i]))\n",
    "    \n",
    "yx = np.asarray(yx2)\n",
    "    \n",
    "\n",
    "error2 = []    \n",
    "    \n",
    "for i in range(0,len(a2)):\n",
    "    if (np.abs(yx[i] - min(yx+0.5)) < 0.003):\n",
    "        error2.append(a2[i])\n",
    "    \n",
    "print error2"
   ]
  },
  {
   "cell_type": "code",
   "execution_count": 215,
   "metadata": {},
   "outputs": [
    {
     "data": {
      "image/png": "[encoded data removed]",
      "text/plain": [
       "<matplotlib.figure.Figure at 0x9b74588>"
      ]
     },
     "metadata": {},
     "output_type": "display_data"
    }
   ],
   "source": [
    "#Showing errors graphically\n",
    "plt.clf()\n",
    "plt.axhline(nLLH2(bf2.x[0])+0.5,color='red')\n",
    "plt.axvline(error2[0],color='red')\n",
    "plt.axvline(error2[1],color='red')\n",
    "plt.scatter(a2,yx2)\n",
    "plt.xlabel(\"a\")\n",
    "plt.ylabel(\"nLLH\")\n",
    "plt.title(\"Part C - Experiment 2\")\n",
    "plt.savefig(\"Final_nLLH-C2\")\n",
    "plt.show() "
   ]
  },
  {
   "cell_type": "code",
   "execution_count": 202,
   "metadata": {},
   "outputs": [
    {
     "name": "stdout",
     "output_type": "stream",
     "text": [
      "The estimated value of a2 is 0.403\n",
      "\n",
      "The left-hand error is 0.154\n",
      "\n",
      "The right-hand side error is 0.15\n"
     ]
    }
   ],
   "source": [
    "print \"The estimated value of a2 is\", \"%.3g\" % bf2.x[0]\n",
    "print\n",
    "print \"The left-hand error is\", \"%.3g\" % (bf2.x[0] - error2[0])\n",
    "print\n",
    "print \"The right-hand side error is\", \"%.3g\" % (error2[1] - bf2.x[0])"
   ]
  },
  {
   "cell_type": "code",
   "execution_count": 203,
   "metadata": {},
   "outputs": [
    {
     "name": "stdout",
     "output_type": "stream",
     "text": [
      "0.583783270206\n"
     ]
    }
   ],
   "source": [
    "#Repeat above for Experiment #3\n",
    "bf3 = optimize.minimize( lambda a: nLLH3(a),[0.6])\n",
    "\n",
    "print bf3.x[0]"
   ]
  },
  {
   "cell_type": "code",
   "execution_count": 204,
   "metadata": {},
   "outputs": [
    {
     "name": "stdout",
     "output_type": "stream",
     "text": [
      "[0.4260000000000001, 0.72600000000000042]\n"
     ]
    }
   ],
   "source": [
    "#Use this to find the error bounds\n",
    "\n",
    "a3 = np.arange(0.3,0.9,0.001)\n",
    "\n",
    "yx3 = []\n",
    "\n",
    "for i in range (0,len(a3)):\n",
    "    yx3.append(nLLH3(a3[i]))\n",
    "    \n",
    "yx = np.asarray(yx3)\n",
    "    \n",
    "\n",
    "error3 = []    \n",
    "    \n",
    "for i in range(0,len(a3)):\n",
    "    if (np.abs(yx[i] - min(yx+0.5)) < 0.003):\n",
    "        error3.append(a3[i])\n",
    "    \n",
    "print error3"
   ]
  },
  {
   "cell_type": "code",
   "execution_count": 216,
   "metadata": {},
   "outputs": [
    {
     "data": {
      "image/png": "[encoded data removed]",
      "text/plain": [
       "<matplotlib.figure.Figure at 0xa7c94a8>"
      ]
     },
     "metadata": {},
     "output_type": "display_data"
    }
   ],
   "source": [
    "#Showing errors graphically\n",
    "plt.clf()\n",
    "plt.axhline(nLLH3(bf3.x[0])+0.5,color='red')\n",
    "plt.axvline(error3[0],color='red')\n",
    "plt.axvline(error3[1],color='red')\n",
    "plt.scatter(a3,yx3)\n",
    "plt.xlabel(\"a\")\n",
    "plt.ylabel(\"nLLH\")\n",
    "plt.title(\"Part C - Experiment 3\")\n",
    "plt.savefig(\"Final_nLLH-C3\")\n",
    "plt.show() "
   ]
  },
  {
   "cell_type": "code",
   "execution_count": 20,
   "metadata": {},
   "outputs": [
    {
     "name": "stdout",
     "output_type": "stream",
     "text": [
      "The estimated value of a3 is 0.584\n",
      "\n",
      "The left-hand error is 0.158\n",
      "\n",
      "The right-hand side error is 0.142\n"
     ]
    }
   ],
   "source": [
    "print \"The estimated value of a3 is\", \"%.3g\" % bf3.x[0]\n",
    "print\n",
    "print \"The left-hand error is\", \"%.3g\" % (bf3.x[0] - error3[0])\n",
    "print\n",
    "print \"The right-hand side error is\", \"%.3g\" % (error3[1] - bf3.x[0])"
   ]
  },
  {
   "cell_type": "code",
   "execution_count": 21,
   "metadata": {
    "collapsed": true
   },
   "outputs": [],
   "source": [
    "##Part D\n",
    "##Finding the test statistic as defined in a previous part in order to\n",
    "##indicate which measurement could claim the presence of a signal"
   ]
  },
  {
   "cell_type": "code",
   "execution_count": 22,
   "metadata": {
    "collapsed": true
   },
   "outputs": [],
   "source": [
    "#Calculating the test statistic, based upon written derivation\n",
    "def TS(a):\n",
    "        return -np.sum(np.log( (1./6.)*(3.-x) )) + np.sum( np.log( (3./8.)*a*((1. + x1)**2)  + ((1./6.)*(1.-a)*(3.-x1)) ))"
   ]
  },
  {
   "cell_type": "code",
   "execution_count": 23,
   "metadata": {},
   "outputs": [
    {
     "name": "stdout",
     "output_type": "stream",
     "text": [
      "0.754454192031\n"
     ]
    }
   ],
   "source": [
    "#Calculating the test statistic for each dataset\n",
    "x = x1\n",
    "\n",
    "print TS(bf1.x[0])"
   ]
  },
  {
   "cell_type": "code",
   "execution_count": 24,
   "metadata": {},
   "outputs": [
    {
     "name": "stdout",
     "output_type": "stream",
     "text": [
      "1.23876703408\n"
     ]
    }
   ],
   "source": [
    "x = x2\n",
    "\n",
    "print TS(bf2.x[0])"
   ]
  },
  {
   "cell_type": "code",
   "execution_count": 25,
   "metadata": {},
   "outputs": [
    {
     "name": "stdout",
     "output_type": "stream",
     "text": [
      "-0.445970055253\n"
     ]
    }
   ],
   "source": [
    "x = x3\n",
    "\n",
    "print TS(bf3.x[0])"
   ]
  },
  {
   "cell_type": "code",
   "execution_count": 26,
   "metadata": {
    "collapsed": true
   },
   "outputs": [],
   "source": [
    "##Part E\n",
    "##Determine a confidence belt to allow us to extract the 68.3% confidence level intervals for measurements 2 and 3\n",
    "##"
   ]
  },
  {
   "cell_type": "code",
   "execution_count": 30,
   "metadata": {
    "collapsed": true
   },
   "outputs": [],
   "source": [
    "#Define new nLLH for confidence interval plotting\n",
    "def nLLH_e(a):\n",
    "    return -np.sum( np.log( (3./8.)*a*((1. + x)**2)  + ((1./6.)*(1.-a)*(3.-x)) ))"
   ]
  },
  {
   "cell_type": "code",
   "execution_count": 183,
   "metadata": {},
   "outputs": [
    {
     "name": "stderr",
     "output_type": "stream",
     "text": [
      "C:\\Users\\Colin Hancock\\Anaconda2\\lib\\site-packages\\ipykernel_launcher.py:26: RuntimeWarning: invalid value encountered in log\n"
     ]
    },
    {
     "name": "stdout",
     "output_type": "stream",
     "text": [
      "mean is 0.500606542061\n",
      "standard deviation is 0.0284014301511\n",
      "Upper limit is  0.529\n",
      "Lower limit is  0.472\n"
     ]
    },
    {
     "data": {
      "image/png": "[encoded data removed]",
      "text/plain": [
       "<matplotlib.figure.Figure at 0xae24550>"
      ]
     },
     "metadata": {},
     "output_type": "display_data"
    },
    {
     "data": {
      "image/png": "[encoded data removed]",
      "text/plain": [
       "<matplotlib.figure.Figure at 0xb08c470>"
      ]
     },
     "metadata": {},
     "output_type": "display_data"
    }
   ],
   "source": [
    "#defines array for PDF values\n",
    "MLE_array = []\n",
    "\n",
    "\n",
    "for i in range(0,1000):\n",
    "    #This lets us set an MLE to generate a PDF around\n",
    "    a_e = 0.50\n",
    "    \n",
    "    n1 = np.random.uniform(0,1,1000)\n",
    "    n2 = np.random.uniform(0,1,1000)\n",
    "    \n",
    "    z = np.random.uniform(0,1,1000)\n",
    "    \n",
    "    #These are the inverse CDF's for this distribution\n",
    "    g1 = 2.*n1**(1./3.)-1.\n",
    "    g2 = 3. + -1.*np.sqrt(16. - 12.*n2)\n",
    "    \n",
    "    #This assigns values from either the signal or BG distributions according to the given a-value\n",
    "    array=[]\n",
    "    for i in range(1000):\n",
    "        if z[i]<=a_e:\n",
    "            array.append(g1[i])\n",
    "        else :\n",
    "            array.append(g2[i])\n",
    "    \n",
    "    #Renames array for easy use in nLLH function\n",
    "    x = np.asarray(array)\n",
    "    \n",
    "    #Redundant definition, helps to have it inside loop\n",
    "    def nLLH_e(a):\n",
    "        return -np.sum( np.log( (3./8.)*a*((1. + x)**2)  + ((1./6.)*(1.-a)*(3.-x)) ))\n",
    "    \n",
    "    #Finds MLE for each possible a-value\n",
    "    bf_e = optimize.minimize(lambda a: nLLH_e(a),[0.49], bounds = [(0.001, 1.0)])\n",
    "    #Attempt to fix odd spike in data, probably an issue with the log function\n",
    "    if bf_e.x[0] > (a_e-0.1):\n",
    "        MLE_array.append(bf_e.x[0])\n",
    "\n",
    "\n",
    "#This calculates the mean and std dev for the given PDF\n",
    "n,bins= np.histogram(MLE_array,bins=100)\n",
    "midp = 0.5*(bins[1:] + bins[:-1])\n",
    "mu = np.average(midp, weights=n)\n",
    "var = np.average((midp - mu)**2, weights=n)\n",
    "sigma = var**0.5\n",
    "print \"mean is\", mu\n",
    "print \"standard deviation is\", sigma\n",
    "\n",
    "#This yields the upper and lower interval limits for the given MLE\n",
    "upper = mu+sigma\n",
    "lower = mu-sigma\n",
    "\n",
    "print \"Upper limit is \", \"%.3g\" % upper\n",
    "print \"Lower limit is \", \"%.3g\" % lower\n",
    "\n",
    "plt.clf()\n",
    "\n",
    "#This plots the histogram for the generated PDF\n",
    "plt.hist(MLE_array, bins=100, normed = True,alpha=0.5)\n",
    "plt.plot(bins, 1/(sigma * np.sqrt(2 * np.pi)) * np.exp( - (bins - mu)**2 / (2 * sigma**2) ),linewidth=2, color='r')\n",
    "plt.xlabel(\"MLE\")\n",
    "plt.ylabel(\"elements/bin\")\n",
    "plt.title(\"Example PDF of MLE for a = 0.5\")\n",
    "plt.legend([\"mean = 0.500\",\"RMS = 0.029\"],loc=1)\n",
    "plt.savefig(\"Final_PDF.png\")\n",
    "plt.show()\n",
    "\n",
    "#This plots the CDF with the probability cutoffs listed for 68.3% confidence shown\n",
    "plt.hist(MLE_array, bins=100, normed = True, cumulative=True, histtype =\"step\")\n",
    "plt.xlabel(\"MLE\")\n",
    "plt.ylabel(\"CDF\")\n",
    "plt.title(\" Example CDF of MLE for a = 0.5\")\n",
    "plt.axhline(y=0.1585, color='r', linestyle=\":\")\n",
    "plt.axhline(y=0.8415, color='r', linestyle=\":\")\n",
    "plt.savefig(\"Final_CDF.png\")\n",
    "plt.show()"
   ]
  },
  {
   "cell_type": "code",
   "execution_count": 164,
   "metadata": {},
   "outputs": [
    {
     "data": {
      "image/png": "[encoded data removed]",
      "text/plain": [
       "<matplotlib.figure.Figure at 0x9c44278>"
      ]
     },
     "metadata": {},
     "output_type": "display_data"
    }
   ],
   "source": [
    "#This array contains the values of 'a' used to generate the PDF's\n",
    "#Mostly taken in intervals of 0.02, though broader jumps were used from 0.4-0.5\n",
    "a_arr = [0.4,0.44,0.48,0.5,0.52,0.54,0.56,0.58,0.6,0.62,0.64,0.66,0.68,0.7]\n",
    "\n",
    "#This lists the upper bounds of the confidence band\n",
    "uplim = [0.431,0.470,0.510,0.527,0.548,0.568,0.589,0.611,0.630,0.649,0.669,0.688,0.707,0.726]\n",
    "#This lists the lower bounds of the confidence band\n",
    "lolim = [0.370,0.411,0.451,0.470,0.491,0.507,0.526,0.543,0.572,0.592,0.613,0.631,0.654,0.673]\n",
    "\n",
    "#This plots the confidence band, along with the measured MLE's for 2 and 3, with the intervals marked by horizontal lines\n",
    "plt.clf()\n",
    "plt.plot(a_arr,lolim, color='blue')\n",
    "plt.plot(a_arr, uplim, color='red')\n",
    "a2 = 0.403\n",
    "a3 = 0.584\n",
    "plt.axvline(x=a2, color = 'g', linestyle=\"--\", label=\"$a2$\")\n",
    "plt.axvline(x=a3, color = 'g', linestyle=\":\", label=\"$a3$\")\n",
    "plt.axhline(0.435, color = '0', linestyle=\"-.\")\n",
    "plt.axhline(0.374, color = '0', linestyle=\"-.\")\n",
    "plt.axhline(0.547, color = '0', linestyle=\"-.\")\n",
    "plt.axhline(0.614, color = '0', linestyle=\"-.\")\n",
    "plt.xlabel(\"a\")\n",
    "plt.ylabel(\"MLE\")\n",
    "plt.title(\"Central confidence belt at 68.3%\")\n",
    "plt.legend(loc=0)\n",
    "plt.savefig(\"Final_Belt.png\")\n",
    "plt.show()\n"
   ]
  },
  {
   "cell_type": "code",
   "execution_count": 41,
   "metadata": {},
   "outputs": [
    {
     "name": "stdout",
     "output_type": "stream",
     "text": [
      "[ 0.0896  0.6082 -0.5793  0.8512  0.9413  0.1865 -0.8927  0.9924 -0.5711\n",
      "  0.6341  0.683  -0.0924  0.3378  0.8055  0.8044 -0.7987  0.2672  0.5723\n",
      "  0.0031  0.9634  0.2656 -0.7905  0.2674  0.7069  0.0417 -0.7062 -0.2608\n",
      " -0.6876 -0.0127 -0.1657  0.3894 -0.3105  0.4279 -0.501  -0.2047  0.3524\n",
      "  0.4845  0.9189  0.2981 -0.9583  0.3862 -0.2841  0.395  -0.8548 -0.6169\n",
      "  0.9373 -0.0283  0.7267  0.8083  0.3567 -0.1685  0.6145  0.019  -0.1687\n",
      "  0.968  -0.2788  0.8508  0.6044  0.2135  0.6753  0.9308  0.7056  0.4935\n",
      "  0.3715  0.3064  0.9384  0.6143  0.5051 -0.3962 -0.6753  0.4208  0.3898\n",
      "  0.119  -0.7565 -0.2114  0.0472  0.5798  0.5585 -0.0153 -0.7256]\n"
     ]
    }
   ],
   "source": [
    "##Part F\n",
    "##Combining the data from experiments 2 and 3 to extract a more precise measurement.\n",
    "\n",
    "#This combines the datasets for 2+3\n",
    "xF = np.concatenate((x2,x3), axis=0)\n",
    "print xF\n"
   ]
  },
  {
   "cell_type": "code",
   "execution_count": 35,
   "metadata": {
    "collapsed": true
   },
   "outputs": [],
   "source": [
    "#Mostly same method as before\n",
    "def nLLH_F(a):\n",
    "    return -np.sum( np.log( (3./8.)*a*((1. + xF)**2)  + ((1./6.)*(1.-a)*(3.-xF)) ))"
   ]
  },
  {
   "cell_type": "code",
   "execution_count": 36,
   "metadata": {},
   "outputs": [
    {
     "name": "stdout",
     "output_type": "stream",
     "text": [
      "0.489722519344\n"
     ]
    }
   ],
   "source": [
    "bf_f = optimize.minimize( lambda a: nLLH_F(a),[0.5],bounds=[(0.0,1.0)])\n",
    "\n",
    "print bf_f.x[0]"
   ]
  },
  {
   "cell_type": "code",
   "execution_count": 37,
   "metadata": {},
   "outputs": [
    {
     "name": "stdout",
     "output_type": "stream",
     "text": [
      "[0.37900000000000017, 0.59500000000000042]\n"
     ]
    }
   ],
   "source": [
    "aF = np.arange(0.2,0.8,0.001)\n",
    "\n",
    "yxF = []\n",
    "\n",
    "for i in range (0,len(aF)):\n",
    "    yxF.append(nLLH_F(aF[i]))\n",
    "    \n",
    "yx = np.asarray(yxF)\n",
    "    \n",
    "\n",
    "errorF = []    \n",
    "    \n",
    "for i in range(0,len(aF)):\n",
    "    if (np.abs(yx[i] - min(yx+0.5)) < 0.004):\n",
    "        errorF.append(aF[i])\n",
    "    \n",
    "print errorF\n"
   ]
  },
  {
   "cell_type": "code",
   "execution_count": 38,
   "metadata": {},
   "outputs": [
    {
     "name": "stdout",
     "output_type": "stream",
     "text": [
      "51.6309609833\n",
      "0.489722519344\n"
     ]
    }
   ],
   "source": [
    "print nLLH_F(bf_f.x[0])\n",
    "print bf_f.x[0]"
   ]
  },
  {
   "cell_type": "code",
   "execution_count": 217,
   "metadata": {},
   "outputs": [
    {
     "data": {
      "image/png": "[encoded data removed]",
      "text/plain": [
       "<matplotlib.figure.Figure at 0xb1ff630>"
      ]
     },
     "metadata": {},
     "output_type": "display_data"
    }
   ],
   "source": [
    "#Showing errors graphically\n",
    "plt.clf()\n",
    "plt.axhline(nLLH_F(bf_f.x[0])+0.5,color='red')\n",
    "plt.axvline(errorF[0],color='red')\n",
    "plt.axvline(errorF[1],color='red')\n",
    "plt.scatter(aF,yxF)\n",
    "plt.xlabel(\"a\")\n",
    "plt.ylabel(\"nLLH\")\n",
    "plt.title(\"Part F - Combined Datasets 2+3\")\n",
    "plt.savefig(\"Final_nLLH-F\")\n",
    "plt.show() "
   ]
  },
  {
   "cell_type": "code",
   "execution_count": 177,
   "metadata": {},
   "outputs": [
    {
     "name": "stdout",
     "output_type": "stream",
     "text": [
      "The estimated value of a is 0.49\n",
      "\n",
      "The left-hand error is 0.111\n",
      "\n",
      "The right-hand side error is 0.105\n"
     ]
    }
   ],
   "source": [
    "print \"The estimated value of a is\", \"%.3g\" % bf_f.x[0]\n",
    "print\n",
    "print \"The left-hand error is\", \"%.3g\" % (bf_f.x[0] - errorF[0])\n",
    "print\n",
    "print \"The right-hand side error is\", \"%.3g\" % (errorF[1] - bf_f.x[0])"
   ]
  },
  {
   "cell_type": "code",
   "execution_count": 166,
   "metadata": {},
   "outputs": [
    {
     "name": "stdout",
     "output_type": "stream",
     "text": [
      "      fun: 0.36784463029803227\n",
      " hess_inv: array([[1]])\n",
      "      jac: array([  3.00630927e-06])\n",
      "  message: 'Optimization terminated successfully.'\n",
      "     nfev: 9\n",
      "      nit: 1\n",
      "     njev: 3\n",
      "   status: 0\n",
      "  success: True\n",
      "        x: array([ 0.50022153])\n"
     ]
    }
   ],
   "source": [
    "##Part G\n",
    "##Use the results from Part C for experiments 2 and 3 (only reported MLE's) to extract a more \n",
    "##precise measurement of the relative amplitude\n",
    "\n",
    "#Constructing the new nLLH given the asymmetric errors\n",
    "def nLLK_G(a):\n",
    "    return 0.5*((a-0.403)**2)/(0.0231 + 0.004*(a-0.403)) + 0.5*((a-0.584)**2)/(0.0224 + 0.016*(a-0.584))\n",
    "\n",
    "bf_G = optimize.minimize( lambda a: nLLK_G(a),[0.5])\n",
    "\n",
    "print bf_G"
   ]
  },
  {
   "cell_type": "code",
   "execution_count": 173,
   "metadata": {},
   "outputs": [
    {
     "name": "stdout",
     "output_type": "stream",
     "text": [
      "[0.40000000000000019, 0.60600000000000032]\n"
     ]
    }
   ],
   "source": [
    "#Repeat of above, finding error limits for this nLLK\n",
    "\n",
    "aG = np.arange(0.2,0.8,0.001)\n",
    "\n",
    "yxG = []\n",
    "\n",
    "for i in range (0,len(aG)):\n",
    "    yxG.append(nLLK_G(aG[i]))\n",
    "    \n",
    "yx = np.asarray(yxG)\n",
    "    \n",
    "\n",
    "errorG = []    \n",
    "    \n",
    "for i in range(0,len(aG)):\n",
    "    if (np.abs(yx[i] - min(yx+0.5)) < 0.0045):\n",
    "        errorG.append(aG[i])\n",
    "    \n",
    "print errorG"
   ]
  },
  {
   "cell_type": "code",
   "execution_count": 218,
   "metadata": {},
   "outputs": [
    {
     "data": {
      "image/png": "[encoded data removed]",
      "text/plain": [
       "<matplotlib.figure.Figure at 0x92b3438>"
      ]
     },
     "metadata": {},
     "output_type": "display_data"
    }
   ],
   "source": [
    "#Showing errors graphically\n",
    "plt.clf()\n",
    "plt.axhline(nLLK_G(bf_G.x[0])+0.5,color='red')\n",
    "plt.axvline(errorG[0],color='red')\n",
    "plt.axvline(errorG[1],color='red')\n",
    "plt.scatter(aG,yxG)\n",
    "plt.xlabel(\"a\")\n",
    "plt.ylabel(\"nLLH\")\n",
    "plt.title(\"Part G - Asymmetric Errors\")\n",
    "plt.savefig(\"Final_nLLH-G\")\n",
    "plt.show() "
   ]
  },
  {
   "cell_type": "code",
   "execution_count": 176,
   "metadata": {},
   "outputs": [
    {
     "name": "stdout",
     "output_type": "stream",
     "text": [
      "The estimated value of a is 0.5\n",
      "\n",
      "The left-hand error is 0.1\n",
      "\n",
      "The right-hand side error is 0.106\n"
     ]
    }
   ],
   "source": [
    "print \"The estimated value of a is\", \"%.3g\" % bf_G.x[0]\n",
    "print\n",
    "print \"The left-hand error is\", \"%.3g\" % (bf_G.x[0] - errorG[0])\n",
    "print\n",
    "print \"The right-hand side error is\", \"%.3g\" % (errorG[1] - bf_G.x[0])"
   ]
  },
  {
   "cell_type": "code",
   "execution_count": null,
   "metadata": {
    "collapsed": true
   },
   "outputs": [],
   "source": []
  }
 ],
 "metadata": {
  "kernelspec": {
   "display_name": "Python 2",
   "language": "python",
   "name": "python2"
  },
  "language_info": {
   "codemirror_mode": {
    "name": "ipython",
    "version": 2
   },
   "file_extension": ".py",
   "mimetype": "text/x-python",
   "name": "python",
   "nbconvert_exporter": "python",
   "pygments_lexer": "ipython2",
   "version": "2.7.14"
  }
 },
 "nbformat": 4,
 "nbformat_minor": 2
}
